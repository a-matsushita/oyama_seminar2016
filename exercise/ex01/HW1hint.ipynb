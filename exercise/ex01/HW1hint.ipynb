{
 "cells": [
  {
   "cell_type": "markdown",
   "metadata": {},
   "source": [
    "# HW1 - step by step"
   ]
  },
  {
   "cell_type": "markdown",
   "metadata": {},
   "source": [
    "## step1"
   ]
  },
  {
   "cell_type": "markdown",
   "metadata": {},
   "source": [
    "まず, 2点のx座標（grid）とy座標（vals）を引数にとり, その間を結ぶ直線に相当する関数を書いてください.\n",
    "\n",
    "つまり, grid = [$a, b$], vals = [$f(a), f(b)$], $a \\leq x \\leq b$ に対し, \n",
    "\n",
    "$$ g(x) = \\frac{f(b) - f(a)}{b - a} x + f(a) \\hspace{20pt} a \\leq  x \\leq b$$\n",
    "\n",
    "を返すような, 関数 **g(x)** をプログラムとして書いてください."
   ]
  },
  {
   "cell_type": "code",
   "execution_count": 5,
   "metadata": {
    "collapsed": false
   },
   "outputs": [
    {
     "ename": "LoadError",
     "evalue": "LoadError: syntax: misplaced return statement\nwhile loading In[5], in expression starting on line 9",
     "output_type": "error",
     "traceback": [
      "LoadError: syntax: misplaced return statement\nwhile loading In[5], in expression starting on line 9",
      ""
     ]
    }
   ],
   "source": [
    "function g(x)\n",
    "    grid = [2, 3]\n",
    "    vals = [4, 6]\n",
    "    \n",
    "    # ここに処理を書く\n",
    "    interpolated_value = \n",
    "    \n",
    "    return interpolated_value\n",
    "end"
   ]
  },
  {
   "cell_type": "code",
   "execution_count": 4,
   "metadata": {
    "collapsed": false
   },
   "outputs": [
    {
     "ename": "LoadError",
     "evalue": "LoadError: UndefVarError: g not defined\nwhile loading In[4], in expression starting on line 1",
     "output_type": "error",
     "traceback": [
      "LoadError: UndefVarError: g not defined\nwhile loading In[4], in expression starting on line 1",
      ""
     ]
    }
   ],
   "source": [
    "print(g(2.5))  # 　5が表示されてほしい"
   ]
  },
  {
   "cell_type": "markdown",
   "metadata": {},
   "source": [
    "## step2"
   ]
  },
  {
   "cell_type": "markdown",
   "metadata": {},
   "source": [
    "次に, 上の関数を3点以上の場合にも使えるよう拡張します. x座標（grid）とy座標（vals）がn個ずつ与えられたとして, それらを\n",
    "\n",
    "$\\hspace{25pt} $ grid = [$x_1, x_2, \\ldots, x_n$],   vals = [$f(x_1), f(x_2), \\ldots, f(x_n)$]  （ただし, $x_1 \\leq x_2 \\leq \\ldots \\leq x_n$ の順に並んでいるとする）\n",
    "\n",
    "としましょう.\n",
    "\n",
    "まず, 引数として与えられたある数xが, \n",
    "\n",
    "$$ x_i \\leq x \\leq x_{i+1}$$\n",
    "\n",
    "を満たすような $i \\in \\{0, 1, 2, \\ldots , n\\}$ を見つける関数 **find_x(grid, x)** を考えます. （$x \\leq x_1$ の時は $i=0$ になります）"
   ]
  },
  {
   "cell_type": "markdown",
   "metadata": {},
   "source": [
    "そのためには, 配列から, ある数x以上であるような最初の要素のインデックス（配列番号）を返す関数, searchsortedlast() を使います. 使用例を見てみます."
   ]
  },
  {
   "cell_type": "code",
   "execution_count": 8,
   "metadata": {
    "collapsed": false
   },
   "outputs": [
    {
     "name": "stdout",
     "output_type": "stream",
     "text": [
      "[0,2,4,6,8,10]\n",
      "xi <= 3.5 <= xi+1 を満たすiは: 2\n",
      "xi <= -2 <= xi+1 を満たすiは: 0\n",
      "xi <= 11 <= xi+1 を満たすiは: 6\n"
     ]
    }
   ],
   "source": [
    "grid = [0, 2, 4, 6, 8, 10]\n",
    "println(grid)\n",
    "\n",
    "# Return the index of the first value in a greater than or equal to x\n",
    "println(\"xi <= 3.5 <= xi+1 を満たすiは: \", searchsortedlast(grid, 3.5))\n",
    "println(\"xi <= -2 <= xi+1 を満たすiは: \", searchsortedlast(grid, -2))\n",
    "println(\"xi <= 11 <= xi+1 を満たすiは: \", searchsortedlast(grid, 11))"
   ]
  },
  {
   "cell_type": "markdown",
   "metadata": {},
   "source": [
    "これを用いれば, 関数find_xは"
   ]
  },
  {
   "cell_type": "code",
   "execution_count": 10,
   "metadata": {
    "collapsed": false
   },
   "outputs": [
    {
     "data": {
      "text/plain": [
       "find_x (generic function with 1 method)"
      ]
     },
     "execution_count": 10,
     "metadata": {},
     "output_type": "execute_result"
    }
   ],
   "source": [
    "function find_x(grid, x)\n",
    "    return searchsortedlast(grid, x)\n",
    "end"
   ]
  },
  {
   "cell_type": "markdown",
   "metadata": {},
   "source": [
    "と書けます. \n",
    "\n",
    "あとは, 関数find_xと関数gを組み合わせて, n個のx座標およびy座標が与えられた時, それらを折れ線でつなげたグラフを表わす関数 **h** を考えるだけです. \n",
    "\n",
    "つまり, \n",
    "\n",
    "$$\n",
    "\\begin{eqnarray}\n",
    "h(x) = \n",
    "\\begin{cases} \n",
    "    \\hspace{20pt} 0 & x \\leq x_1 \\\\\n",
    "    \\dfrac{f(x_{i+1}) - f(x_i)}{x_{i+1} - x_i} x + f(x_i) & x_i \\leq  x \\leq x_{i+1}, i \\in \\{1, 2, \\ldots, n\\} \\\\\n",
    "    \\hspace{20pt} 0 & x_n \\leq x \\\\\n",
    "\\end{cases}\n",
    "\\end{eqnarray}\n",
    "$$\n",
    "\n",
    "となるような関数を考えます. （$ x \\leq x_1$ 及び  $x_n \\leq x$ のケースは, 0を返してもいいし, ERRORを返してもいいです）"
   ]
  },
  {
   "cell_type": "code",
   "execution_count": 11,
   "metadata": {
    "collapsed": false
   },
   "outputs": [
    {
     "data": {
      "text/plain": [
       "h (generic function with 1 method)"
      ]
     },
     "execution_count": 11,
     "metadata": {},
     "output_type": "execute_result"
    }
   ],
   "source": [
    "function h(grid, vals, x)\n",
    "    i = searchsortedlast(grid, x)\n",
    "    \n",
    "    if lower_index == 0 || lower_index == length(grid)\n",
    "        return 0\n",
    "    end\n",
    "    \n",
    "    # ここに処理を書く\n",
    "    \n",
    "    return interpolated_value\n",
    "end"
   ]
  },
  {
   "cell_type": "code",
   "execution_count": 12,
   "metadata": {
    "collapsed": false
   },
   "outputs": [
    {
     "ename": "LoadError",
     "evalue": "LoadError: UndefVarError: lower_index not defined\nwhile loading In[12], in expression starting on line 3",
     "output_type": "error",
     "traceback": [
      "LoadError: UndefVarError: lower_index not defined\nwhile loading In[12], in expression starting on line 3",
      "",
      " in h at In[11]:4"
     ]
    }
   ],
   "source": [
    "grid = [0, 2, 4, 6, 8, 10]\n",
    "vals = [1, 4, 5, 8, 9, 11]\n",
    "println(h(grid, vals, 3)) # 4.5を返してほしい"
   ]
  },
  {
   "cell_type": "markdown",
   "metadata": {},
   "source": [
    "## step3"
   ]
  },
  {
   "cell_type": "markdown",
   "metadata": {},
   "source": [
    "最後に, 関数hを次のように, 「関数を返す関数」に書き換えます."
   ]
  },
  {
   "cell_type": "code",
   "execution_count": 13,
   "metadata": {
    "collapsed": false
   },
   "outputs": [
    {
     "ename": "LoadError",
     "evalue": "LoadError: syntax: invalid identifier name \"...\"\nwhile loading In[13], in expression starting on line 3",
     "output_type": "error",
     "traceback": [
      "LoadError: syntax: invalid identifier name \"...\"\nwhile loading In[13], in expression starting on line 3",
      ""
     ]
    }
   ],
   "source": [
    "function my_lin_interp(grid, vals)\n",
    "    function func(x)\n",
    "        \n",
    "        # ここに処理を書く\n",
    "    \n",
    "    end\n",
    "\n",
    "    return func\n",
    "end"
   ]
  },
  {
   "cell_type": "code",
   "execution_count": null,
   "metadata": {
    "collapsed": true
   },
   "outputs": [],
   "source": [
    "grid = [0, 2, 4, 6, 8, 10]\n",
    "vals = [1, 4, 5, 8, 9, 11]\n",
    "my_func = my_lin_i"
   ]
  }
 ],
 "metadata": {
  "kernelspec": {
   "display_name": "Julia 0.4.3",
   "language": "julia",
   "name": "julia-0.4"
  },
  "language_info": {
   "file_extension": ".jl",
   "mimetype": "application/julia",
   "name": "julia",
   "version": "0.4.3"
  }
 },
 "nbformat": 4,
 "nbformat_minor": 0
}
