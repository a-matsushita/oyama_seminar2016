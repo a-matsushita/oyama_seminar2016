{
 "cells": [
  {
   "cell_type": "markdown",
   "metadata": {},
   "source": [
    "# Deferred Acceptance Algorithm Demo\n",
    "\n",
    "Detail: [https://github.com/myuuuuun/oyama_seminar2016/tree/master/exercise/ex03](https://github.com/myuuuuun/oyama_seminar2016/tree/master/exercise/ex03)  \n",
    "Code: [https://github.com/myuuuuun/oyama_seminar2016/blob/master/exercise/ex03/matching.jl](https://github.com/myuuuuun/oyama_seminar2016/blob/master/exercise/ex03/matching.jl)"
   ]
  },
  {
   "cell_type": "code",
   "execution_count": 1,
   "metadata": {
    "collapsed": false,
    "scrolled": true
   },
   "outputs": [
    {
     "name": "stdout",
     "output_type": "stream",
     "text": [
      "Test Summary:       | Pass  Total\n",
      "Testing matching.jl |   10     10\n"
     ]
    },
    {
     "data": {
      "text/plain": [
       "BaseTestNext.DefaultTestSet(\"Testing matching.jl\",Any[BaseTestNext.DefaultTestSet(\"gale_shapley_T: one-to-one\",Any[Test Passed\n",
       "  Expression: m_matched_computed == m_matched_expected\n",
       "   Evaluated: [1,2,3,0] == [1,2,3,0],Test Passed\n",
       "  Expression: f_matched_computed == f_matched_expected\n",
       "   Evaluated: [1,2,3] == [1,2,3],Test Passed\n",
       "  Expression: m_matched_computed == m_matched_expected\n",
       "   Evaluated: [1,2,3,0] == [1,2,3,0],Test Passed\n",
       "  Expression: f_matched_computed == f_matched_expected\n",
       "   Evaluated: [1,2,3] == [1,2,3]],false),BaseTestNext.DefaultTestSet(\"gale_shapley_T: many-to-one with caps 1\",Any[Test Passed\n",
       "  Expression: m_matched_computed == m_matched_expected\n",
       "   Evaluated: [1,2,3,0] == [1,2,3,0],Test Passed\n",
       "  Expression: f_matched_computed == f_matched_expected\n",
       "   Evaluated: Integer[1,2,3] == [1,2,3],Test Passed\n",
       "  Expression: indptr_computed == indptr_expected\n",
       "   Evaluated: Integer[1,2,3,4] == [1,2,3,4]],false),BaseTestNext.DefaultTestSet(\"gale_shapley_T: many-to-one\",Any[Test Passed\n",
       "  Expression: s_matched_computed == s_matched_expected\n",
       "   Evaluated: [3,1,4,3,1,3,2,1,4,1,5] == [3,1,4,3,1,3,2,1,4,1,5],Test Passed\n",
       "  Expression: indptr_computed == indptr_expected\n",
       "   Evaluated: Integer[1,5,6,9,11,12] == [1,5,6,9,11,12],Test Passed\n",
       "  Expression: c_matched_computed == c_matched_expected\n",
       "   Evaluated: Integer[2,5,8,10,7,1,4,6,3,9,11] == [2,5,8,10,7,1,4,6,3,9,11]],false)],false)"
      ]
     },
     "execution_count": 1,
     "metadata": {},
     "output_type": "execute_result"
    }
   ],
   "source": [
    "include(\"test_deferred_acceptance.jl\")"
   ]
  },
  {
   "cell_type": "code",
   "execution_count": 1,
   "metadata": {
    "collapsed": false
   },
   "outputs": [
    {
     "data": {
      "text/plain": [
       "Matching"
      ]
     },
     "execution_count": 1,
     "metadata": {},
     "output_type": "execute_result"
    }
   ],
   "source": [
    "include(\"matching_tools.jl\")\n",
    "include(\"matching.jl\")"
   ]
  },
  {
   "cell_type": "code",
   "execution_count": 2,
   "metadata": {
    "collapsed": false
   },
   "outputs": [
    {
     "name": "stdout",
     "output_type": "stream",
     "text": [
      "[1 9 5 5 4\n",
      " 0 0 3 4 7\n",
      " 8 6 2 2 0\n",
      " 5 8 0 6 1\n",
      " 4 1 8 3 10\n",
      " 3 10 4 0 2\n",
      " 7 3 10 8 8\n",
      " 10 5 9 7 5\n",
      " 9 7 6 10 9\n",
      " 2 2 1 9 6\n",
      " 6 4 7 1 3]\n",
      "[2 2 5 4 3 1 4 4 2 4\n",
      " 4 0 3 1 4 3 1 3 4 0\n",
      " 1 5 1 3 2 2 2 2 1 2\n",
      " 5 3 0 0 1 5 0 1 5 5\n",
      " 3 1 2 5 0 4 5 5 3 3\n",
      " 0 4 4 2 5 0 3 0 0 1]\n",
      "1,1\n",
      "worst: 1\n",
      "3,8\n"
     ]
    },
    {
     "ename": "LoadError",
     "evalue": "LoadError: BoundsError: attempt to access 6-element Array{Int64,1}:\n 1\n 1\n 1\n 1\n 1\n 1\n  at index [8]\nwhile loading In[2], in expression starting on line 5",
     "output_type": "error",
     "traceback": [
      "LoadError: BoundsError: attempt to access 6-element Array{Int64,1}:\n 1\n 1\n 1\n 1\n 1\n 1\n  at index [8]\nwhile loading In[2], in expression starting on line 5",
      "",
      " in gale_shapley at /Users/akira/oyama_seminar2016/exercise/ex03/matching.jl:142",
      " in gale_shapley at /Users/akira/oyama_seminar2016/exercise/ex03/matching.jl:208"
     ]
    }
   ],
   "source": [
    "srand(711)\n",
    "m_prefs, f_prefs = random_prefs(5, 10, allow_unmatched=true)\n",
    "println(m_prefs)\n",
    "println(f_prefs)\n",
    "println(Matching.gale_shapley(m_prefs, f_prefs))"
   ]
  },
  {
   "cell_type": "code",
   "execution_count": null,
   "metadata": {
    "collapsed": true
   },
   "outputs": [],
   "source": []
  }
 ],
 "metadata": {
  "kernelspec": {
   "display_name": "Julia 0.4.6",
   "language": "julia",
   "name": "julia-0.4"
  },
  "language_info": {
   "file_extension": ".jl",
   "mimetype": "application/julia",
   "name": "julia",
   "version": "0.4.6"
  }
 },
 "nbformat": 4,
 "nbformat_minor": 0
}
