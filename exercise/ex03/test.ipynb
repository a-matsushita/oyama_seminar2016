{
 "cells": [
  {
   "cell_type": "code",
   "execution_count": 4,
   "metadata": {
    "collapsed": false
   },
   "outputs": [
    {
     "data": {
      "text/plain": [
       "deferred_acceptance (generic function with 1 method)"
      ]
     },
     "execution_count": 4,
     "metadata": {},
     "output_type": "execute_result"
    }
   ],
   "source": [
    "function deferred_acceptance(m_prefs::Array{Int64}, f_prefs::Array{Int64})\n",
    "    m_prefs = m_prefs'\n",
    "    f_prefs = f_prefs'    \n",
    "\n",
    "    m_size = size(m_prefs, 1) #男の数\n",
    "    f_size = size(f_prefs, 1) #女の数\n",
    "    is_single_prop = ones(Bool, m_size) #男たちが独身かどうか。0なら独身でない1なら独身\n",
    "    next_resp = ones(Int, m_size) #各人の男たちにとって次求婚する女の順位（最初は皆一番好きな女からアッタクしていく）\n",
    "    current_prop = zeros(Int, f_size) #暫定的にマッチングしてる女各人にとっての男たちのリスト。\n",
    "    i = 0\n",
    "    while sum(is_single_prop) != 0 && i < 10 #独身の男たちがいる間は\n",
    "        println(is_single_prop)\n",
    "        for m in 1:m_size #男の数分全員考える\n",
    "            if is_single_prop[m] #もしmが独身なら（１なら）\n",
    "                f = m_prefs[m, next_resp[m]]  # 次求婚する女に求婚する\n",
    "                if f == 0 # 次求婚する女がマッチングしなかった時の状態の女だったらつまり誰とも結婚したくなかったら\n",
    "                    is_single_prop[m] = false # 独身とみなさない #Falseではダメ\n",
    "                elseif (find(f_prefs[f, :] .== m) .< find(f_prefs[f, :].==current_prop[f])) == trues(1) # fに取ってmが今の彼氏よりもよかったら\n",
    "                    if current_prop[f] != 0 # もしfに付き合っていた人がいたら\n",
    "                        is_single_prop[current_prop[f]] = true#fのもと交際相手の男が独身になる\n",
    "                    end\n",
    "                    current_prop[f] = m # fの付き合っている人をmにする\n",
    "                    is_single_prop[m] = false # mを独身でなくさせる\n",
    "                end\n",
    "                next_resp[m] += 1 # 次の求婚対象の女を次の順位の女にする\n",
    "            end\n",
    "        end\n",
    "        i += 1\n",
    "    end\n",
    "\n",
    "    m_matched = Array(Int64,m_size)\n",
    "    for m in 1:m_size\n",
    "        m_matched[m]= m_prefs[m,next_resp[m]-1]\n",
    "    end\n",
    "    f_matched = current_prop\n",
    "    \n",
    "    return m_matched, f_matched\n",
    "end"
   ]
  },
  {
   "cell_type": "code",
   "execution_count": 10,
   "metadata": {
    "collapsed": false
   },
   "outputs": [
    {
     "name": "stdout",
     "output_type": "stream",
     "text": [
      "[2 1 2\n",
      " 1 3 3\n",
      " 3 2 4\n",
      " 4 4 1\n",
      " 0 0 0]\n",
      "[2 3 1 2\n",
      " 1 2 3 3\n",
      " 3 1 2 1\n",
      " 0 0 0 0]\n",
      "Bool[true,true,true]\n",
      "Bool[true,false,false]\n",
      "Bool[true,false,false]\n",
      "([3,1,2],[2,3,1,0])\n"
     ]
    }
   ],
   "source": [
    "m_prefs = [2 1 3 4 0;　1 3 2 4 0; 2 3 4 1 0]'\n",
    "f_prefs = [2 1 3 0; 3 2 1 0; 1 3 2 0; 2 3 1 0]'\n",
    "println(m_prefs)\n",
    "println(f_prefs)\n",
    "println(deferred_acceptance(m_prefs, f_prefs))"
   ]
  },
  {
   "cell_type": "code",
   "execution_count": 11,
   "metadata": {
    "collapsed": false
   },
   "outputs": [
    {
     "name": "stdout",
     "output_type": "stream",
     "text": [
      "a>=3\n"
     ]
    }
   ],
   "source": [
    "a = 3\n",
    "\n",
    "if a < 2\n",
    "    println(\"a<2\")\n",
    "elseif a < 3\n",
    "    println(\"a<3\")\n",
    "else println(\"a>=3\")\n",
    "end"
   ]
  },
  {
   "cell_type": "code",
   "execution_count": 18,
   "metadata": {
    "collapsed": false
   },
   "outputs": [
    {
     "data": {
      "text/plain": [
       "deferred_acceptance (generic function with 2 methods)"
      ]
     },
     "execution_count": 18,
     "metadata": {},
     "output_type": "execute_result"
    }
   ],
   "source": [
    "function deferred_acceptance(m_prefs,f_prefs)\n",
    "    m = size(m_prefs, 2)\n",
    "    n = size(f_prefs, 2)\n",
    "    m_matched=zeros(Int64,m)\n",
    "    f_matched=zeros(Int64,n)\n",
    "    m_counter=zeros(Int64,m)　#ふられた回数をカウントする\n",
    "    for d in 1:n+1 #全員のcounterがn+1に達するまでみたいな感じにした方がいい気がするけどやり方わからず\n",
    "        for h in 1:m #1～m番までの男hに対して\n",
    "            if m_matched[h] == 0　#男hが独身である場合\n",
    "                \n",
    "                if m_prefs[m_counter[h]+1,h]==0　#男hの選好で上からcounter番目が独身の時\n",
    "                    m_matched[h] = 0　#もうこの人は独身で決定。\n",
    "\n",
    "                #counter番目の選好が独身でなくちゃんと好きな人kがいるなら、その人にプロポーズする。\n",
    "                \n",
    "                #女kにとってhの選好が現在婚約している人より高いのであれば、婚約を破棄してhと婚約。\n",
    "                elseif true\n",
    "                    if f_matched[m_prefs[m_counter[h]+1,h]] != 0\n",
    "                        m_matched[f_matched[m_prefs[m_counter[h]+1,h]]] = 0　#もともと婚約していた男は独身に\n",
    "                        m_counter[f_matched[m_prefs[m_matched[h],h]]] += 1 #もともと婚約してた男のふられた回数カウンター増加。\n",
    "                    end        \n",
    "                    m_matched[h] = m_prefs[m_matched[h],h]　#男hはcounter番目に好きな人と婚約\n",
    "                    f_matched[m_prefs[m_matched[h],h]] = h　#女kは男hと婚約\n",
    "                else\n",
    "                    #counter番目に好きな人kにとって男hの選好が現在婚約している人よりも低いとき、男hは独身のまま。hのふられた回数カウンター増加。\n",
    "                    m_counter[h] += 1 \n",
    "                end\n",
    "                \n",
    "            end\n",
    "        end\n",
    "    end\n",
    "end"
   ]
  },
  {
   "cell_type": "code",
   "execution_count": null,
   "metadata": {
    "collapsed": true
   },
   "outputs": [],
   "source": []
  }
 ],
 "metadata": {
  "kernelspec": {
   "display_name": "Julia 0.4.3",
   "language": "julia",
   "name": "julia-0.4"
  },
  "language_info": {
   "file_extension": ".jl",
   "mimetype": "application/julia",
   "name": "julia",
   "version": "0.4.3"
  }
 },
 "nbformat": 4,
 "nbformat_minor": 0
}
