{
 "cells": [
  {
   "cell_type": "markdown",
   "metadata": {},
   "source": [
    "# Exercise2\n",
    "\n",
    "Gale-Shapley Algorithmを実装する. 詳細: https://github.com/OyamaZemi/exercises2016/tree/master/ex02"
   ]
  },
  {
   "cell_type": "markdown",
   "metadata": {},
   "source": [
    "## imports"
   ]
  },
  {
   "cell_type": "code",
   "execution_count": 1,
   "metadata": {
    "collapsed": false
   },
   "outputs": [
    {
     "data": {
      "text/plain": [
       "_randperm2d! (generic function with 1 method)"
      ]
     },
     "execution_count": 1,
     "metadata": {},
     "output_type": "execute_result"
    }
   ],
   "source": [
    "using DataStructures\n",
    "include(\"matching_tools.jl\")"
   ]
  },
  {
   "cell_type": "markdown",
   "metadata": {},
   "source": [
    "## Argsort\n",
    "\n",
    "まず, 1次元のargsort関数を実装する"
   ]
  },
  {
   "cell_type": "code",
   "execution_count": 2,
   "metadata": {
    "collapsed": false
   },
   "outputs": [
    {
     "name": "stdout",
     "output_type": "stream",
     "text": [
      "[5,1,4,2,3]\n"
     ]
    }
   ],
   "source": [
    "function argsort{T<:Int}(array::AbstractVector{T})\n",
    "    #=1次元配列をArgument Sortする\n",
    "    \n",
    "    配列をSortした後, その要素が元あった場所のIndexを返す\n",
    "    例: [1, 3, 4, 2, 0] -> [5, 1, 4, 2, 3]\n",
    "    タイの順位には非対応\n",
    "    =#\n",
    "    \n",
    "    array_with_index = Array{T}(length(array), 2)\n",
    "    for i in 1:length(array)\n",
    "        array_with_index[i, 1] = array[i]\n",
    "        array_with_index[i, 2] = i\n",
    "    end\n",
    "    \n",
    "    sorted_array_with_index = sortrows(array_with_index, by=x->x[1])\n",
    "    return sorted_array_with_index[:, 2]\n",
    "end\n",
    "\n",
    "array = [1, 3, 4, 2, 0]\n",
    "println(argsort(array))"
   ]
  },
  {
   "cell_type": "markdown",
   "metadata": {},
   "source": [
    "次に, 2次元に対応させる"
   ]
  },
  {
   "cell_type": "code",
   "execution_count": 3,
   "metadata": {
    "collapsed": false,
    "scrolled": true
   },
   "outputs": [
    {
     "name": "stdout",
     "output_type": "stream",
     "text": [
      "[5 1 4 2 3\n",
      " 3 1 2 5 4]\n"
     ]
    }
   ],
   "source": [
    "function argsort{T<:Int}(array::AbstractArray{T, 2})\n",
    "    #=2次元配列をArgument Sortする\n",
    "    \n",
    "    それぞれの行毎にargsortする.\n",
    "    例: [1 3 4 2 0;\n",
    "        　　　1 2 0 4 3]\n",
    "    \n",
    "    　->　[5 1 4 2 3;\n",
    "        　　　3 1 2 5 4]\n",
    "    =#\n",
    "    \n",
    "    row = size(array)[1]\n",
    "    col = size(array)[2]\n",
    "    argsorted = Array{T}(size(array))\n",
    "    for i in 1:row\n",
    "        out = argsort(squeeze(array[i, :], 1))\n",
    "        for j in 1:col\n",
    "            argsorted[i, j] = out[j]\n",
    "        end\n",
    "    end\n",
    "    \n",
    "    return argsorted\n",
    "end\n",
    "\n",
    "array = [1 3 4 2 0; 1 2 0 4 3]\n",
    "println(argsort(array))"
   ]
  },
  {
   "cell_type": "markdown",
   "metadata": {},
   "source": [
    "## 1 to 1 Gale Shapley\n",
    "\n",
    "を書く. ここでは man-optimal matchingを出力する."
   ]
  },
  {
   "cell_type": "code",
   "execution_count": 4,
   "metadata": {
    "collapsed": false
   },
   "outputs": [
    {
     "data": {
      "text/plain": [
       "size (generic function with 65 methods)"
      ]
     },
     "execution_count": 4,
     "metadata": {},
     "output_type": "execute_result"
    }
   ],
   "source": [
    "type RowMajorMatrix{T} <: AbstractMatrix{T}\n",
    "    data::AbstractMatrix{T}\n",
    "end\n",
    "\n",
    "Base.getindex(a::RowMajorMatrix, i::Int, j::Int) = a.data[j, i]\n",
    "\n",
    "function Base.size(a::RowMajorMatrix)\n",
    "    col_size = size(a.data)[1]\n",
    "    row_size = size(a.data)[2]\n",
    "    return (row_size, col_size)\n",
    "end"
   ]
  },
  {
   "cell_type": "markdown",
   "metadata": {},
   "source": [
    "### Stackを使う"
   ]
  },
  {
   "cell_type": "code",
   "execution_count": 5,
   "metadata": {
    "collapsed": false
   },
   "outputs": [
    {
     "data": {
      "text/plain": [
       "gale_shapley (generic function with 1 method)"
      ]
     },
     "execution_count": 5,
     "metadata": {},
     "output_type": "execute_result"
    }
   ],
   "source": [
    "function gale_shapley_T{T<:Int64}(m_prefs::AbstractArray{T, 2}, f_prefs::AbstractArray{T, 2})\n",
    "    m_prefs_T = RowMajorMatrix(m_prefs)\n",
    "    f_prefs_T = RowMajorMatrix(f_prefs)\n",
    "    return gale_shapley(m_prefs_T, f_prefs_T)\n",
    "end\n",
    "\n",
    "function gale_shapley{T<:Int64}(m_prefs::AbstractArray{T, 2}, f_prefs::AbstractArray{T, 2})\n",
    "\n",
    "    # 第1次元（行）のサイズ = 男, 女の人数 を取得\n",
    "    m_size = size(m_prefs, 1)\n",
    "    f_size = size(f_prefs, 1)\n",
    "    \n",
    "    # 仮マッチング済相手を入れる（0をunmatch）\n",
    "    m_matched = zeros(Int64, m_size)\n",
    "    f_matched = zeros(Int64, f_size)\n",
    "    \n",
    "    # 未処理の男を入れておくスタック\n",
    "    stack = Stack(Int)\n",
    "    for i in m_size:-1:1\n",
    "        push!(stack, i)\n",
    "    end\n",
    "    \n",
    "    # 女の選好を[男1の順位, 男2の順位,...] -> [1位の男の番号, 2位の男の番号,...] に変える\n",
    "    male_rankings = argsort(f_prefs)\n",
    "\n",
    "    # それぞれの男が何番目の女まで告白したかを保存するリスト\n",
    "    proposed = zeros(Int64, m_size)\n",
    "    \n",
    "    while length(stack) != 0\n",
    "        male = pop!(stack)\n",
    "        \n",
    "        for i in proposed[male]+1:f_size\n",
    "            proposed[male] += 1\n",
    "\n",
    "            # 順位表が終わりまで来たら探索終了\n",
    "            if m_prefs[male, i] == 0\n",
    "                break\n",
    "            end\n",
    "            \n",
    "            female = m_prefs[male, i]\n",
    "            # 女性が誰ともマッチしていない場合, 女性にとって男性がacceptableならマッチ\n",
    "            if f_matched[female] == 0 && male_rankings[female, male+1] < male_rankings[female, 1]\n",
    "                m_matched[male] = female\n",
    "                f_matched[female] = male\n",
    "                break\n",
    "            # 誰かとマッチしている場合, 男性が現在のパートナーよりもランクが高ければマッチ\n",
    "            else\n",
    "                current_partner = f_matched[female]\n",
    "                if male_rankings[female, male+1] < male_rankings[female, current_partner+1]\n",
    "                    m_matched[male] = female\n",
    "                    f_matched[female] = male\n",
    "                    m_matched[current_partner] = 0\n",
    "                    push!(stack, current_partner)\n",
    "                    break\n",
    "                end\n",
    "            end\n",
    "        end\n",
    "    end\n",
    "    return m_matched, f_matched\n",
    "end"
   ]
  },
  {
   "cell_type": "code",
   "execution_count": 6,
   "metadata": {
    "collapsed": false
   },
   "outputs": [
    {
     "name": "stdout",
     "output_type": "stream",
     "text": [
      "[2 1 2\n",
      " 1 3 3\n",
      " 3 2 4\n",
      " 4 4 1\n",
      " 0 0 0]\n",
      "[2 3 1 2\n",
      " 1 2 3 3\n",
      " 3 1 2 1\n",
      " 0 0 0 0]\n",
      "([3,1,2],[2,3,1,0])\n"
     ]
    }
   ],
   "source": [
    "m_prefs = [2 1 3 4 0;　1 3 2 4 0; 2 3 4 1 0]'\n",
    "f_prefs = [2 1 3 0; 3 2 1 0; 1 3 2 0; 2 3 1 0]'\n",
    "println(m_prefs)\n",
    "println(f_prefs)\n",
    "println(gale_shapley_T(m_prefs, f_prefs))"
   ]
  },
  {
   "cell_type": "code",
   "execution_count": 8,
   "metadata": {
    "collapsed": false
   },
   "outputs": [
    {
     "name": "stdout",
     "output_type": "stream",
     "text": [
      "[2 2 1 1\n",
      " 3 0 2 0\n",
      " 0 3 3 2\n",
      " 1 1 0 3]\n",
      "[3 4 4\n",
      " 2 1 3\n",
      " 0 2 2\n",
      " 1 0 1\n",
      " 4 3 0]\n",
      "([2,0,1,0],[3,1,0])\n"
     ]
    }
   ],
   "source": [
    "srand(613)\n",
    "m_prefs2, f_prefs2 = random_prefs(4, 3, allow_unmatched=true)\n",
    "m_prefs2 = m_prefs2\n",
    "f_prefs2 = f_prefs2\n",
    "println(m_prefs2)\n",
    "println(f_prefs2)\n",
    "println(gale_shapley_T(m_prefs2, f_prefs2))"
   ]
  },
  {
   "cell_type": "markdown",
   "metadata": {},
   "source": [
    "### Stackを使わない"
   ]
  },
  {
   "cell_type": "code",
   "execution_count": 9,
   "metadata": {
    "collapsed": false
   },
   "outputs": [
    {
     "data": {
      "text/plain": [
       "gale_shapley2 (generic function with 1 method)"
      ]
     },
     "execution_count": 9,
     "metadata": {},
     "output_type": "execute_result"
    }
   ],
   "source": [
    "function gale_shapley2_T{T<:Int64}(m_prefs::AbstractArray{T, 2}, f_prefs::AbstractArray{T, 2})\n",
    "    m_prefs_T = RowMajorMatrix(m_prefs)\n",
    "    f_prefs_T = RowMajorMatrix(f_prefs)\n",
    "    return gale_shapley2(m_prefs_T, f_prefs_T)\n",
    "end\n",
    "\n",
    "function gale_shapley2{T<:Int64}(m_prefs::AbstractArray{T, 2}, f_prefs::AbstractArray{T, 2})\n",
    "\n",
    "    # 第1次元（行）のサイズ = 男, 女の人数 を取得\n",
    "    m_size = size(m_prefs, 1)\n",
    "    f_size = size(f_prefs, 1)\n",
    "    \n",
    "    # 仮マッチング済相手を入れる（0をunmatch）\n",
    "    m_matched = zeros(Int64, m_size)\n",
    "    f_matched = zeros(Int64, f_size)\n",
    "    \n",
    "    # 未処理の男を入れておくスタック\n",
    "    unmatched = ones(Bool, m_size)\n",
    "    \n",
    "    # 女の選好を[男1の順位, 男2の順位,...] -> [1位の男の番号, 2位の男の番号,...] に変える\n",
    "    male_rankings = argsort(f_prefs)\n",
    "\n",
    "    # それぞれの男が何番目の女まで告白したかを保存するリスト\n",
    "    proposed = zeros(Int64, m_size)\n",
    "    \n",
    "    while sum(unmatched) != 0\n",
    "        for male in 1:m_size\n",
    "            if unmatched[male]\n",
    "                for i in proposed[male]+1:f_size\n",
    "                    proposed[male] += 1\n",
    "\n",
    "                    # 順位表が終わりまで来たら探索終了\n",
    "                    if m_prefs[male, i] == 0\n",
    "                        unmatched[male] = false\n",
    "                        break\n",
    "                    end\n",
    "\n",
    "                    female = m_prefs[male, i]\n",
    "                    # 女性が誰ともマッチしていない場合, 女性にとって男性がacceptableならマッチ\n",
    "                    if f_matched[female] == 0 && male_rankings[female, male+1] < male_rankings[female, 1]\n",
    "                        m_matched[male] = female\n",
    "                        f_matched[female] = male\n",
    "                        unmatched[male] = false\n",
    "                        break\n",
    "                    # 誰かとマッチしている場合, 男性が現在のパートナーよりもランクが高ければマッチ\n",
    "                    else\n",
    "                        current_partner = f_matched[female]\n",
    "                        if male_rankings[female, male+1] < male_rankings[female, current_partner+1]\n",
    "                            m_matched[male] = female\n",
    "                            f_matched[female] = male\n",
    "                            m_matched[current_partner] = 0\n",
    "                            unmatched[male] = false\n",
    "                            unmatched[current_partner] = true\n",
    "                            break\n",
    "                        end\n",
    "                    end\n",
    "                end\n",
    "            end\n",
    "        end\n",
    "    end\n",
    "    return m_matched, f_matched\n",
    "end"
   ]
  },
  {
   "cell_type": "code",
   "execution_count": 10,
   "metadata": {
    "collapsed": false
   },
   "outputs": [
    {
     "name": "stdout",
     "output_type": "stream",
     "text": [
      "[2 1 2\n",
      " 1 3 3\n",
      " 3 2 4\n",
      " 4 4 1\n",
      " 0 0 0]\n",
      "[2 3 1 2\n",
      " 1 2 3 3\n",
      " 3 1 2 1\n",
      " 0 0 0 0]\n",
      "([3,1,2],[2,3,1,0])\n"
     ]
    }
   ],
   "source": [
    "m_prefs = [2 1 3 4 0;　1 3 2 4 0; 2 3 4 1 0]'\n",
    "f_prefs = [2 1 3 0; 3 2 1 0; 1 3 2 0; 2 3 1 0]'\n",
    "println(m_prefs)\n",
    "println(f_prefs)\n",
    "println(gale_shapley2_T(m_prefs, f_prefs))"
   ]
  },
  {
   "cell_type": "markdown",
   "metadata": {},
   "source": [
    "### Stack使用版と未使用版, どちらが速いか"
   ]
  },
  {
   "cell_type": "code",
   "execution_count": 11,
   "metadata": {
    "collapsed": false
   },
   "outputs": [
    {
     "data": {
      "text/plain": [
       "speedtest (generic function with 1 method)"
      ]
     },
     "execution_count": 11,
     "metadata": {},
     "output_type": "execute_result"
    }
   ],
   "source": [
    "function make_preferences(loop::Int=1000, m_size::Int=1000, f_size::Int=1000, seed::Int64=617)\n",
    "    srand(seed)\n",
    "    m_prefs = Array{Int64}(loop, f_size+1, m_size)\n",
    "    f_prefs = Array{Int64}(loop, m_size+1, f_size)\n",
    "    for i in 1:loop\n",
    "        m_pref, f_pref = random_prefs(m_size, f_size, allow_unmatched=true)\n",
    "        m_prefs[i, :, :] = m_pref\n",
    "        f_prefs[i, :, :] = f_pref\n",
    "    end\n",
    "    \n",
    "    return m_prefs, f_prefs\n",
    "end\n",
    "\n",
    "function speedtest(func::Function, m_prefs, f_prefs, loop)\n",
    "    m_size = size(m_prefs, 3)\n",
    "    f_size = size(f_prefs, 3)\n",
    "    for i in 1:loop\n",
    "        m_pref = reshape(m_prefs[i, :, :], f_size+1, m_size)\n",
    "        f_pref = reshape(f_prefs[i, :, :], m_size+1, f_size)\n",
    "    end\n",
    "end"
   ]
  },
  {
   "cell_type": "code",
   "execution_count": 12,
   "metadata": {
    "collapsed": false
   },
   "outputs": [
    {
     "name": "stdout",
     "output_type": "stream",
     "text": [
      "  6.537233 seconds (660.58 k allocations: 3.011 GB, 3.72% gc time)\n",
      "  3.085700 seconds (64.48 k allocations: 1.495 GB, 6.58% gc time)\n",
      "  3.053297 seconds (1.40 k allocations: 1.492 GB, 6.68% gc time)\n"
     ]
    }
   ],
   "source": [
    "m_size = 1000\n",
    "f_size = 1000\n",
    "loop = 100\n",
    "\n",
    "@time m_prefs, f_prefs = make_preferences(loop, m_size, f_size) \n",
    "@time speedtest(gale_shapley_T, m_prefs, f_prefs, loop)\n",
    "@time speedtest(gale_shapley2_T, m_prefs, f_prefs, loop)"
   ]
  },
  {
   "cell_type": "markdown",
   "metadata": {},
   "source": [
    "Stackの方が遅いかと思ったが, ほとんど誤差の範囲"
   ]
  }
 ],
 "metadata": {
  "kernelspec": {
   "display_name": "Julia 0.4.3",
   "language": "julia",
   "name": "julia-0.4"
  },
  "language_info": {
   "file_extension": ".jl",
   "mimetype": "application/julia",
   "name": "julia",
   "version": "0.4.3"
  }
 },
 "nbformat": 4,
 "nbformat_minor": 0
}
