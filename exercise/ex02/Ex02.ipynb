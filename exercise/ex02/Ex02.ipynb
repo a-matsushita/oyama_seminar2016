{
 "cells": [
  {
   "cell_type": "markdown",
   "metadata": {},
   "source": [
    "# Exercise2\n",
    "\n",
    "Gale-Shapley Algorithmを実装する. 詳細: https://github.com/OyamaZemi/exercises2016/tree/master/ex02"
   ]
  },
  {
   "cell_type": "markdown",
   "metadata": {},
   "source": [
    "## imports"
   ]
  },
  {
   "cell_type": "code",
   "execution_count": 13,
   "metadata": {
    "collapsed": true
   },
   "outputs": [],
   "source": [
    "using DataStructures"
   ]
  },
  {
   "cell_type": "markdown",
   "metadata": {},
   "source": [
    "## Argsort\n",
    "\n",
    "まず, 1次元のargsort関数を実装する"
   ]
  },
  {
   "cell_type": "code",
   "execution_count": 3,
   "metadata": {
    "collapsed": false
   },
   "outputs": [
    {
     "name": "stdout",
     "output_type": "stream",
     "text": [
      "[1,4,2,3]\n"
     ]
    }
   ],
   "source": [
    "function argsort{T<:Int}(array::AbstractVector{T})\n",
    "    #=1次元配列をArgument Sortする\n",
    "    \n",
    "    配列をSortした後, その要素が元あった場所のIndexを返す\n",
    "    例: [1, 3, 4, 2] -> [1, 4, 2, 3]\n",
    "    タイの順位には非対応\n",
    "    =#\n",
    "    \n",
    "    array_with_index = Array{T}(length(array), 2)\n",
    "    for i in 1:length(array)\n",
    "        array_with_index[i, 1] = array[i]\n",
    "        array_with_index[i, 2] = i\n",
    "    end\n",
    "    \n",
    "    sorted_array_with_index = sortrows(array_with_index, by=x->x[1])\n",
    "    return sorted_array_with_index[:, 2]\n",
    "end\n",
    "\n",
    "array = [1, 3, 4, 2]\n",
    "println(argsort(array))"
   ]
  },
  {
   "cell_type": "markdown",
   "metadata": {},
   "source": [
    "次に, 2次元に対応させる"
   ]
  },
  {
   "cell_type": "code",
   "execution_count": 10,
   "metadata": {
    "collapsed": false,
    "scrolled": true
   },
   "outputs": [
    {
     "name": "stdout",
     "output_type": "stream",
     "text": [
      "[1 4 2 3\n",
      " 1 2 4 3]\n"
     ]
    }
   ],
   "source": [
    "function argsort{T<:Int}(array::AbstractArray{T, 2})\n",
    "    #=2次元配列をArgument Sortする\n",
    "    \n",
    "    それぞれの行毎にargsortする.\n",
    "    例: [1 3 4 2;\n",
    "        　　　1 2 4 3]\n",
    "    \n",
    "    　->　[1 4 2 3;\n",
    "        　　　1 2 4 3]\n",
    "    =#\n",
    "    \n",
    "    row = size(array)[1]\n",
    "    col = size(array)[2]\n",
    "    argsorted = Array{T}(size(array))\n",
    "    for i in 1:row\n",
    "        out = argsort(squeeze(array[i, :], 1))\n",
    "        for j in 1:col\n",
    "            argsorted[i, j] = out[j]\n",
    "        end\n",
    "    end\n",
    "    \n",
    "    return argsorted\n",
    "end\n",
    "\n",
    "array = [1 3 4 2; 1 2 4 3]\n",
    "println(argsort(array))"
   ]
  },
  {
   "cell_type": "markdown",
   "metadata": {},
   "source": [
    "## 1 to 1 Gale Shapley\n",
    "\n",
    "を書く. ここでは man-optimal matchingを出力する."
   ]
  },
  {
   "cell_type": "code",
   "execution_count": 14,
   "metadata": {
    "collapsed": false
   },
   "outputs": [
    {
     "data": {
      "text/plain": [
       "gale_shapley (generic function with 1 method)"
      ]
     },
     "execution_count": 14,
     "metadata": {},
     "output_type": "execute_result"
    }
   ],
   "source": [
    "function gale_shapley{T<:Int64}(m_prefs::AbstractArray{T, 2}, f_prefs::AbstractArray{T, 2})\n",
    "    # 第1次元（行）のサイズ = 男, 女の人数 を取得\n",
    "    m_size = size(m_prefs, 1)\n",
    "    f_size = size(f_prefs, 1)\n",
    "    \n",
    "    # 仮マッチング済相手を入れる（0をunmatch）\n",
    "    m_matched = zeros(Int64, m_size)\n",
    "    f_matched = zeros(Int64, f_size)\n",
    "    \n",
    "    # 未処理の男を入れておくスタック\n",
    "    stack = Stack(Int)\n",
    "    for i in 0:m_size-1\n",
    "        push!(stack, m_size-i)\n",
    "    end\n",
    "    \n",
    "    # 女の選好を[男1の順位, 男2の順位,...] -> [1位の男の番号, 2位の男の番号,...] に変える\n",
    "    male_rankings = argsort(f_prefs)\n",
    "    \n",
    "    while length(stack) != 0\n",
    "        male = pop!(stack)\n",
    "        \n",
    "        for i in 1:f_size\n",
    "            female = m_prefs[male, i]\n",
    "            if f_matched[female] == 0\n",
    "                m_matched[male] = female\n",
    "                f_matched[female] = male\n",
    "                break\n",
    "            else\n",
    "                current_partner = f_matched[female]\n",
    "                if male_rankings[female, male] < male_rankings[female, current_partner]\n",
    "                    m_matched[male] = female\n",
    "                    f_matched[female] = male\n",
    "                    m_matched[current_partner] = 0\n",
    "                    push!(stack, current_partner)\n",
    "                end\n",
    "            end\n",
    "        end\n",
    "    end\n",
    "    \n",
    "    return m_matched, f_matched\n",
    "end"
   ]
  },
  {
   "cell_type": "code",
   "execution_count": 15,
   "metadata": {
    "collapsed": false
   },
   "outputs": [
    {
     "data": {
      "text/plain": [
       "([2,1,3],[2,1,3,0])"
      ]
     },
     "execution_count": 15,
     "metadata": {},
     "output_type": "execute_result"
    }
   ],
   "source": [
    "m_prefs = [2 1 3 4;　1 3 2 4; 1 3 4 2]\n",
    "f_prefs = [2 1 3; 1 3 2; 1 3 2; 2 3 1]\n",
    "gale_shapley(m_prefs, f_prefs)"
   ]
  }
 ],
 "metadata": {
  "kernelspec": {
   "display_name": "Julia 0.4.3",
   "language": "julia",
   "name": "julia-0.4"
  },
  "language_info": {
   "file_extension": ".jl",
   "mimetype": "application/julia",
   "name": "julia",
   "version": "0.4.3"
  }
 },
 "nbformat": 4,
 "nbformat_minor": 0
}
