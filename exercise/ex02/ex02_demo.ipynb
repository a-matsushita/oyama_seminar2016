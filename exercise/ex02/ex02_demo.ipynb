{
 "cells": [
  {
   "cell_type": "markdown",
   "metadata": {},
   "source": [
    "# Deferred Acceptance Algorithm Demo\n",
    "\n",
    "Detail: [https://github.com/myuuuuun/oyama_seminar2016/tree/master/exercise/ex02](https://github.com/myuuuuun/oyama_seminar2016/tree/master/exercise/ex02)"
   ]
  },
  {
   "cell_type": "markdown",
   "metadata": {},
   "source": [
    "## Test"
   ]
  },
  {
   "cell_type": "code",
   "execution_count": 1,
   "metadata": {
    "collapsed": false
   },
   "outputs": [
    {
     "name": "stdout",
     "output_type": "stream",
     "text": [
      "Test Summary:       | Pass  Total\n",
      "Testing matching.jl |    4      4\n"
     ]
    },
    {
     "data": {
      "text/plain": [
       "BaseTestNext.DefaultTestSet(\"Testing matching.jl\",Any[BaseTestNext.DefaultTestSet(\"gale_shapley_T\",Any[Test Passed\n",
       "  Expression: m_matched_computed == m_matched_expected\n",
       "   Evaluated: [1,2,3,0] == [1,2,3,0],Test Passed\n",
       "  Expression: f_matched_computed == f_matched_expected\n",
       "   Evaluated: [1,2,3] == [1,2,3],Test Passed\n",
       "  Expression: m_matched_computed == m_matched_expected\n",
       "   Evaluated: [1,2,3,0] == [1,2,3,0],Test Passed\n",
       "  Expression: f_matched_computed == f_matched_expected\n",
       "   Evaluated: [1,2,3] == [1,2,3]],false)],false)"
      ]
     },
     "execution_count": 1,
     "metadata": {},
     "output_type": "execute_result"
    }
   ],
   "source": [
    "include(\"test_deferred_acceptance.jl\")"
   ]
  },
  {
   "cell_type": "markdown",
   "metadata": {},
   "source": [
    "## Small Example"
   ]
  },
  {
   "cell_type": "code",
   "execution_count": 109,
   "metadata": {
    "collapsed": false
   },
   "outputs": [
    {
     "name": "stderr",
     "output_type": "stream",
     "text": [
      "WARNING: replacing module Matching\n"
     ]
    },
    {
     "data": {
      "text/plain": [
       "_randperm2d! (generic function with 1 method)"
      ]
     },
     "execution_count": 109,
     "metadata": {},
     "output_type": "execute_result"
    }
   ],
   "source": [
    "include(\"matching.jl\")\n",
    "include(\"matching_tools.jl\")"
   ]
  },
  {
   "cell_type": "code",
   "execution_count": 3,
   "metadata": {
    "collapsed": false
   },
   "outputs": [
    {
     "name": "stdout",
     "output_type": "stream",
     "text": [
      "[2 2 1 1\n",
      " 3 0 2 0\n",
      " 0 3 3 2\n",
      " 1 1 0 3]\n",
      "[3 4 4\n",
      " 2 1 3\n",
      " 0 2 2\n",
      " 1 0 1\n",
      " 4 3 0]\n",
      "([2,0,1,0],[3,1,0])\n"
     ]
    }
   ],
   "source": [
    "srand(613)\n",
    "m_prefs, f_prefs = random_prefs(4, 3, allow_unmatched=true)\n",
    "println(m_prefs)\n",
    "println(f_prefs)\n",
    "println(Matching.gale_shapley_T(m_prefs, f_prefs))"
   ]
  },
  {
   "cell_type": "markdown",
   "metadata": {},
   "source": [
    "## Speed test"
   ]
  },
  {
   "cell_type": "code",
   "execution_count": 4,
   "metadata": {
    "collapsed": false
   },
   "outputs": [
    {
     "data": {
      "text/plain": [
       "speedtest (generic function with 1 method)"
      ]
     },
     "execution_count": 4,
     "metadata": {},
     "output_type": "execute_result"
    }
   ],
   "source": [
    "function make_preferences(loop::Int=1000, m_size::Int=1000, f_size::Int=1000, seed::Int64=617)\n",
    "    srand(seed)\n",
    "    m_prefs = Array{Int64}(loop, f_size+1, m_size)\n",
    "    f_prefs = Array{Int64}(loop, m_size+1, f_size)\n",
    "    for i in 1:loop\n",
    "        m_pref, f_pref = random_prefs(m_size, f_size, allow_unmatched=true)\n",
    "        m_prefs[i, :, :] = m_pref\n",
    "        f_prefs[i, :, :] = f_pref\n",
    "    end\n",
    "    \n",
    "    return m_prefs, f_prefs\n",
    "end\n",
    "\n",
    "function speedtest(func::Function, m_prefs, f_prefs, loop)\n",
    "    m_size = size(m_prefs, 3)\n",
    "    f_size = size(f_prefs, 3)\n",
    "    for i in 1:loop\n",
    "        m_pref = reshape(m_prefs[i, :, :], f_size+1, m_size)\n",
    "        f_pref = reshape(f_prefs[i, :, :], m_size+1, f_size)\n",
    "    end\n",
    "end"
   ]
  },
  {
   "cell_type": "code",
   "execution_count": 5,
   "metadata": {
    "collapsed": false
   },
   "outputs": [
    {
     "name": "stdout",
     "output_type": "stream",
     "text": [
      "  8.922630 seconds (660.59 k allocations: 3.011 GB, 4.75% gc time)\n",
      "  3.317073 seconds (64.48 k allocations: 1.495 GB, 6.80% gc time)\n"
     ]
    }
   ],
   "source": [
    "m_size = 1000\n",
    "f_size = 1000\n",
    "loop = 100\n",
    "\n",
    "@time m_prefs, f_prefs = make_preferences(loop, m_size, f_size) \n",
    "@time speedtest(Matching.gale_shapley_T, m_prefs, f_prefs, loop)"
   ]
  },
  {
   "cell_type": "markdown",
   "metadata": {
    "collapsed": true
   },
   "source": [
    "## Is stable matching"
   ]
  },
  {
   "cell_type": "code",
   "execution_count": 107,
   "metadata": {
    "collapsed": false
   },
   "outputs": [
    {
     "data": {
      "text/plain": [
       "is_stable_matching (generic function with 1 method)"
      ]
     },
     "execution_count": 107,
     "metadata": {},
     "output_type": "execute_result"
    }
   ],
   "source": [
    "function is_stable_matching{T<:Int}(\n",
    "    m_matched::AbstractArray{T, 1}, f_matched::AbstractArray{T, 1},\n",
    "    m_prefs::AbstractArray{T, 2}, f_prefs::AbstractArray{T, 2})\n",
    "    \n",
    "    m_size = size(m_prefs, 1)\n",
    "    f_size = size(f_prefs, 1)\n",
    "\n",
    "    f_rankings = argsort(m_prefs)\n",
    "    m_rankings = argsort(f_prefs)\n",
    "\n",
    "    for i in 1:m_size\n",
    "        f = m_matched[i]\n",
    "        for j in 1:m_size\n",
    "            # jにとって現在マッチしている相手よりも, fの方が順位が上なら\n",
    "            f_j = m_matched[j]\n",
    "            if f_rankings[j, f] < f_rankings[j, f_j]\n",
    "                # 更にfにとってiよりもjの順位が上なら, Blocking pair\n",
    "                if m_rankings[f, j] < m_rankings[f, i]\n",
    "                    println(\"Blocking pair man: %s woman: %s\" % (j, f_j))\n",
    "                    return false\n",
    "                end\n",
    "            end\n",
    "        end\n",
    "    end\n",
    "    return true\n",
    "end"
   ]
  },
  {
   "cell_type": "code",
   "execution_count": 110,
   "metadata": {
    "collapsed": false
   },
   "outputs": [
    {
     "name": "stdout",
     "output_type": "stream",
     "text": [
      "[2 2 1 1\n",
      " 3 0 2 0\n",
      " 0 3 3 2\n",
      " 1 1 0 3]\n",
      "[3 4 4\n",
      " 2 1 3\n",
      " 0 2 2\n",
      " 1 0 1\n",
      " 4 3 0]\n",
      "[2,0,1,0][3,1,0]\n",
      "true\n",
      "[0,2,0,3][0,2,4]\n",
      "Invalid matchings\n",
      "For man: 4, staying alone is better than matching with woman: 3.\n",
      "false\n"
     ]
    }
   ],
   "source": [
    "srand(613)\n",
    "m_prefs, f_prefs = random_prefs(4, 3, allow_unmatched=true)\n",
    "println(m_prefs)\n",
    "println(f_prefs)\n",
    "\n",
    "m_matched, f_matched = Matching.gale_shapley_T(m_prefs, f_prefs)\n",
    "println(m_matched, f_matched)\n",
    "println(Matching.is_stable_matching(m_matched, f_matched, m_prefs', f_prefs'))\n",
    "\n",
    "m_matching2 = Array{Int64}([0, 2, 0, 3])\n",
    "f_matching2 = Matching.make_f_matched_from_m_matched(m_matching2, 4, 3)\n",
    "println(m_matching2, f_matching2)\n",
    "println(Matching.is_stable_matching(m_matching2, f_matching2, m_prefs', f_prefs'))"
   ]
  },
  {
   "cell_type": "markdown",
   "metadata": {},
   "source": [
    "## Find all stable matchings"
   ]
  },
  {
   "cell_type": "code",
   "execution_count": 113,
   "metadata": {
    "collapsed": false
   },
   "outputs": [
    {
     "name": "stdout",
     "output_type": "stream",
     "text": [
      "([2,0,1,0],[3,1,0])\n",
      "Stable matching: Set(Any[[2,0,1,0]])\n"
     ]
    }
   ],
   "source": [
    "srand(613)\n",
    "m_prefs, f_prefs = random_prefs(4, 3, allow_unmatched=true)\n",
    "println(Matching.gale_shapley_T(m_prefs, f_prefs))\n",
    "println(\"Stable matching: $(Matching.find_all_stable_matchings(m_prefs', f_prefs'))\")"
   ]
  },
  {
   "cell_type": "markdown",
   "metadata": {},
   "source": [
    "Stable matchingがたくさんあることもある"
   ]
  },
  {
   "cell_type": "code",
   "execution_count": 114,
   "metadata": {
    "collapsed": false,
    "scrolled": false
   },
   "outputs": [
    {
     "name": "stdout",
     "output_type": "stream",
     "text": [
      "1 個目のPreference\n",
      "[2 2 1 1\n",
      " 3 0 2 0\n",
      " 0 3 3 2\n",
      " 1 1 0 3]\n",
      "[3 4 4\n",
      " 2 1 3\n",
      " 0 2 2\n",
      " 1 0 1\n",
      " 4 3 0]\n",
      "([2,0,1,0],[3,1,0])\n",
      "Stable matching: Set(Any[[2,0,1,0]])\n",
      "\n",
      "\n",
      "2 個目のPreference\n",
      "[1 2 2 2\n",
      " 2 1 0 1\n",
      " 3 3 1 0\n",
      " 0 0 3 3]\n",
      "[2 3 2\n",
      " 3 4 4\n",
      " 0 0 0\n",
      " 4 2 1\n",
      " 1 1 3]\n",
      "([0,1,2,0],[2,3,0])\n",
      "Stable matching: Set(Any[[0,1,2,0]])\n",
      "\n",
      "\n",
      "3 個目のPreference\n",
      "[2 1 3 2\n",
      " 3 0 0 3\n",
      " 0 3 1 0\n",
      " 1 2 2 1]\n",
      "[1 2 3\n",
      " 2 1 2\n",
      " 3 3 0\n",
      " 0 4 4\n",
      " 4 0 1]\n",
      "([2,1,3,0],[2,1,3])\n",
      "Stable matching: Set(Any[[2,1,3,0]])\n",
      "\n",
      "\n",
      "4 個目のPreference\n",
      "[3 2 3 2\n",
      " 0 3 1 3\n",
      " 1 0 0 1\n",
      " 2 1 2 0]\n",
      "[3 1 2\n",
      " 0 0 3\n",
      " 2 2 0\n",
      " 4 3 1\n",
      " 1 4 4]\n",
      "([0,3,1,0],[3,0,2])\n",
      "Stable matching: Set(Any[[0,3,1,0]])\n",
      "\n",
      "\n",
      "5 個目のPreference\n",
      "[3 3 1 2\n",
      " 0 1 0 0\n",
      " 1 0 3 1\n",
      " 2 2 2 3]\n",
      "[4 3 2\n",
      " 2 4 4\n",
      " 0 0 3\n",
      " 1 1 0\n",
      " 3 2 1]\n",
      "([0,3,0,2],[0,4,2])\n",
      "Stable matching: Set(Any[[0,3,0,2]])\n",
      "\n",
      "\n",
      "6 個目のPreference\n",
      "[2 2 3 1\n",
      " 3 0 1 2\n",
      " 1 1 2 3\n",
      " 0 3 0 0]\n",
      "[3 1 2\n",
      " 1 4 4\n",
      " 4 0 1\n",
      " 2 3 3\n",
      " 0 2 0]\n",
      "([2,0,3,1],[4,1,3])\n",
      "Stable matching: Set(Any[[2,0,1,3],[2,0,3,1]])\n",
      "\n",
      "\n",
      "7 個目のPreference\n",
      "[1 1 2 2\n",
      " 2 2 3 3\n",
      " 3 0 1 0\n",
      " 0 3 0 1]\n",
      "[2 1 3\n",
      " 1 4 0\n",
      " 4 2 2\n",
      " 3 3 1\n",
      " 0 0 4]\n",
      "([2,1,3,0],[2,1,3])\n",
      "Stable matching: Set(Any[[2,1,3,0]])\n",
      "\n",
      "\n",
      "8 個目のPreference\n",
      "[1 3 3 3\n",
      " 0 0 1 0\n",
      " 2 1 2 1\n",
      " 3 2 0 2]\n",
      "[3 3 2\n",
      " 0 2 3\n",
      " 4 0 1\n",
      " 2 1 0\n",
      " 1 4 4]\n",
      "([0,3,1,0],[3,0,2])\n",
      "Stable matching: Set(Any[[0,3,1,0]])\n",
      "\n",
      "\n",
      "9 個目のPreference\n",
      "[3 1 1 3\n",
      " 0 0 2 1\n",
      " 2 2 3 0\n",
      " 1 3 0 2]\n",
      "[3 1 2\n",
      " 0 3 0\n",
      " 2 0 3\n",
      " 4 4 4\n",
      " 1 2 1]\n",
      "([0,0,1,0],[3,0,0])\n",
      "Stable matching: Set(Any[[0,0,1,0]])\n",
      "\n",
      "\n",
      "10 個目のPreference\n",
      "[2 3 2 1\n",
      " 3 2 3 2\n",
      " 0 1 1 3\n",
      " 1 0 0 0]\n",
      "[1 1 3\n",
      " 4 3 2\n",
      " 2 2 4\n",
      " 0 4 0\n",
      " 3 0 1]\n",
      "([2,0,3,1],[4,1,3])\n",
      "Stable matching: Set(Any[[2,0,3,1]])\n",
      "\n",
      "\n"
     ]
    }
   ],
   "source": [
    "srand(613)\n",
    "\n",
    "for i in 1:10\n",
    "    m_prefs, f_prefs = random_prefs(4, 3, allow_unmatched=true)\n",
    "    println(\"$(i) 個目のPreference\")\n",
    "    println(m_prefs)\n",
    "    println(f_prefs)\n",
    "    println(Matching.gale_shapley_T(m_prefs, f_prefs))\n",
    "    println(\"Stable matching: $(Matching.find_all_stable_matchings(m_prefs', f_prefs'))\")\n",
    "    println(\"\\n\")\n",
    "end"
   ]
  }
 ],
 "metadata": {
  "kernelspec": {
   "display_name": "Julia 0.4.3",
   "language": "julia",
   "name": "julia-0.4"
  },
  "language_info": {
   "file_extension": ".jl",
   "mimetype": "application/julia",
   "name": "julia",
   "version": "0.4.3"
  }
 },
 "nbformat": 4,
 "nbformat_minor": 0
}
