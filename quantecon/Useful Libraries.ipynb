{
 "cells": [
  {
   "cell_type": "code",
   "execution_count": 3,
   "metadata": {
    "collapsed": false
   },
   "outputs": [
    {
     "name": "stderr",
     "output_type": "stream",
     "text": [
      "INFO: Precompiling module PyPlot...\n",
      "Assertion failed: (ctx->gensym_assigned.at(idx)), function emit_expr, file codegen.cpp, line 3155.\n",
      "\n",
      "signal (6): Abort trap: 6\n",
      "__pthread_kill at /usr/lib/system/libsystem_kernel.dylib (unknown line)\n",
      "ERROR: LoadError: Failed to precompile PyCall to /Users/akira/.julia/lib/v0.4/PyCall.ji\n",
      " in error at /usr/local/Cellar/julia/0.4.6_1/lib/julia/sys.dylib\n",
      " in compilecache at loading.jl:400\n",
      " in require at /usr/local/Cellar/julia/0.4.6_1/lib/julia/sys.dylib\n",
      " in include at /usr/local/Cellar/julia/0.4.6_1/lib/julia/sys.dylib\n",
      " in include_from_node1 at /usr/local/Cellar/julia/0.4.6_1/lib/julia/sys.dylib\n",
      " [inlined code] from none:2\n",
      " in anonymous at no file:0\n",
      " in process_options at /usr/local/Cellar/julia/0.4.6_1/lib/julia/sys.dylib\n",
      " in _start at /usr/local/Cellar/julia/0.4.6_1/lib/julia/sys.dylib\n",
      "while loading /Users/akira/.julia/v0.4/PyPlot/src/PyPlot.jl, in expression starting on line 5\n"
     ]
    },
    {
     "ename": "LoadError",
     "evalue": "LoadError: Failed to precompile PyPlot to /Users/akira/.julia/lib/v0.4/PyPlot.ji\nwhile loading In[3], in expression starting on line 1",
     "output_type": "error",
     "traceback": [
      "LoadError: Failed to precompile PyPlot to /Users/akira/.julia/lib/v0.4/PyPlot.ji\nwhile loading In[3], in expression starting on line 1",
      "",
      " in error at /usr/local/Cellar/julia/0.4.6_1/lib/julia/sys.dylib",
      " in compilecache at loading.jl:400",
      " in require at /usr/local/Cellar/julia/0.4.6_1/lib/julia/sys.dylib"
     ]
    }
   ],
   "source": [
    "using PyPlot\n",
    "x = linspace(0, 10, 200)\n",
    "y = sin(x)\n",
    "plot(x, y, \"b-\", linewidth=2)"
   ]
  },
  {
   "cell_type": "code",
   "execution_count": 4,
   "metadata": {
    "collapsed": false
   },
   "outputs": [
    {
     "ename": "LoadError",
     "evalue": "LoadError: UndefVarError: derivative not defined\nwhile loading In[4], in expression starting on line 3",
     "output_type": "error",
     "traceback": [
      "LoadError: UndefVarError: derivative not defined\nwhile loading In[4], in expression starting on line 3",
      "",
      " in D at /Users/akira/.julia/v0.4/Roots/src/adiff.jl:21",
      " in newton at /Users/akira/.julia/v0.4/Roots/src/newton.jl:79"
     ]
    }
   ],
   "source": [
    "using Roots\n",
    "f(x) = sin(4 * (x - 1/4)) + x + x^20 - 1\n",
    "newton(f, 0.2)"
   ]
  },
  {
   "cell_type": "code",
   "execution_count": 7,
   "metadata": {
    "collapsed": false
   },
   "outputs": [
    {
     "data": {
      "text/plain": [
       "Main"
      ]
     },
     "execution_count": 7,
     "metadata": {},
     "output_type": "execute_result"
    }
   ],
   "source": [
    "@which Roots"
   ]
  },
  {
   "cell_type": "code",
   "execution_count": null,
   "metadata": {
    "collapsed": true
   },
   "outputs": [],
   "source": []
  }
 ],
 "metadata": {
  "kernelspec": {
   "display_name": "Julia 0.4.6",
   "language": "julia",
   "name": "julia-0.4"
  },
  "language_info": {
   "file_extension": ".jl",
   "mimetype": "application/julia",
   "name": "julia",
   "version": "0.4.6"
  }
 },
 "nbformat": 4,
 "nbformat_minor": 0
}
