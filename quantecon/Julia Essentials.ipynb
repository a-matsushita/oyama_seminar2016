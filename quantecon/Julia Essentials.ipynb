{
 "cells": [
  {
   "cell_type": "code",
   "execution_count": 16,
   "metadata": {
    "collapsed": true
   },
   "outputs": [],
   "source": [
    "using Distributions"
   ]
  },
  {
   "cell_type": "code",
   "execution_count": 26,
   "metadata": {
    "collapsed": false
   },
   "outputs": [
    {
     "data": {
      "text/plain": [
       "2x3 Array{Int64,2}:\n",
       " 100  0  0\n",
       "   0  0  0"
      ]
     },
     "execution_count": 26,
     "metadata": {},
     "output_type": "execute_result"
    }
   ],
   "source": [
    "li = zeros(Int64, 2, 3)\n",
    "li[1, 1] = 100\n",
    "li"
   ]
  },
  {
   "cell_type": "code",
   "execution_count": 27,
   "metadata": {
    "collapsed": false
   },
   "outputs": [
    {
     "data": {
      "text/plain": [
       "1000"
      ]
     },
     "execution_count": 27,
     "metadata": {},
     "output_type": "execute_result"
    }
   ],
   "source": [
    "li2 = li\n",
    "li3 = copy(li)\n",
    "li4 = deepcopy(li)\n",
    "li[2, 2] = 1000"
   ]
  },
  {
   "cell_type": "code",
   "execution_count": 28,
   "metadata": {
    "collapsed": false
   },
   "outputs": [
    {
     "data": {
      "text/plain": [
       "2x3 Array{Int64,2}:\n",
       " 100     0  0\n",
       "   0  1000  0"
      ]
     },
     "execution_count": 28,
     "metadata": {},
     "output_type": "execute_result"
    }
   ],
   "source": [
    "li"
   ]
  },
  {
   "cell_type": "code",
   "execution_count": 29,
   "metadata": {
    "collapsed": false
   },
   "outputs": [
    {
     "data": {
      "text/plain": [
       "2x3 Array{Int64,2}:\n",
       " 100     0  0\n",
       "   0  1000  0"
      ]
     },
     "execution_count": 29,
     "metadata": {},
     "output_type": "execute_result"
    }
   ],
   "source": [
    "li2"
   ]
  },
  {
   "cell_type": "code",
   "execution_count": 30,
   "metadata": {
    "collapsed": false
   },
   "outputs": [
    {
     "data": {
      "text/plain": [
       "2x3 Array{Int64,2}:\n",
       " 100  0  0\n",
       "   0  0  0"
      ]
     },
     "execution_count": 30,
     "metadata": {},
     "output_type": "execute_result"
    }
   ],
   "source": [
    "li3"
   ]
  },
  {
   "cell_type": "markdown",
   "metadata": {},
   "source": [
    "copy() でも deepcopyされている. なぜ……"
   ]
  },
  {
   "cell_type": "code",
   "execution_count": 31,
   "metadata": {
    "collapsed": false
   },
   "outputs": [
    {
     "data": {
      "text/plain": [
       "2x3 Array{Int64,2}:\n",
       " 100  0  0\n",
       "   0  0  0"
      ]
     },
     "execution_count": 31,
     "metadata": {},
     "output_type": "execute_result"
    }
   ],
   "source": [
    "li4"
   ]
  },
  {
   "cell_type": "code",
   "execution_count": 32,
   "metadata": {
    "collapsed": false
   },
   "outputs": [
    {
     "data": {
      "text/plain": [
       "2x3 Array{Int64,2}:\n",
       " 100     0  0\n",
       "   0  1000  0"
      ]
     },
     "execution_count": 32,
     "metadata": {},
     "output_type": "execute_result"
    }
   ],
   "source": [
    "li3[3] = 100\n",
    "li"
   ]
  },
  {
   "cell_type": "code",
   "execution_count": 33,
   "metadata": {
    "collapsed": false
   },
   "outputs": [
    {
     "data": {
      "text/plain": [
       "2x3 Array{Int64,2}:\n",
       " 100     0  0\n",
       "   0  1000  0"
      ]
     },
     "execution_count": 33,
     "metadata": {},
     "output_type": "execute_result"
    }
   ],
   "source": [
    "li2"
   ]
  },
  {
   "cell_type": "code",
   "execution_count": 35,
   "metadata": {
    "collapsed": false,
    "scrolled": false
   },
   "outputs": [
    {
     "data": {
      "text/html": [
       "19 methods for generic function <b>log</b>:<ul><li> log(a::<b>Complex{Float16}</b>) at <a href=\"https://github.com/JuliaLang/julia/tree/a2f713dea5ac6320d8dcf2835ac4a37ea751af05/base/float16.jl#L151\" target=\"_blank\">float16.jl:151</a><li> log<i>{T<:AbstractFloat}</i>(z::<b>Complex{T<:AbstractFloat}</b>) at <a href=\"https://github.com/JuliaLang/julia/tree/a2f713dea5ac6320d8dcf2835ac4a37ea751af05/base/complex.jl#L319\" target=\"_blank\">complex.jl:319</a><li> log(z::<b>Complex{T<:Real}</b>) at <a href=\"https://github.com/JuliaLang/julia/tree/a2f713dea5ac6320d8dcf2835ac4a37ea751af05/base/complex.jl#L338\" target=\"_blank\">complex.jl:338</a><li> log(x::<b>Float64</b>) at <a href=\"https://github.com/JuliaLang/julia/tree/a2f713dea5ac6320d8dcf2835ac4a37ea751af05/base/math.jl#L137\" target=\"_blank\">math.jl:137</a><li> log(x::<b>Float32</b>) at <a href=\"https://github.com/JuliaLang/julia/tree/a2f713dea5ac6320d8dcf2835ac4a37ea751af05/base/math.jl#L138\" target=\"_blank\">math.jl:138</a><li> log(a::<b>Float16</b>) at <a href=\"https://github.com/JuliaLang/julia/tree/a2f713dea5ac6320d8dcf2835ac4a37ea751af05/base/float16.jl#L150\" target=\"_blank\">float16.jl:150</a><li> log(x::<b>BigFloat</b>) at <a href=\"https://github.com/JuliaLang/julia/tree/a2f713dea5ac6320d8dcf2835ac4a37ea751af05/base/mpfr.jl#L549\" target=\"_blank\">mpfr.jl:549</a><li> log(::<b>Irrational{:e}</b>) at <a href=\"https://github.com/JuliaLang/julia/tree/a2f713dea5ac6320d8dcf2835ac4a37ea751af05/base/irrationals.jl#L130\" target=\"_blank\">irrationals.jl:130</a><li> log(::<b>Irrational{:e}</b>, x) at <a href=\"https://github.com/JuliaLang/julia/tree/a2f713dea5ac6320d8dcf2835ac4a37ea751af05/base/irrationals.jl#L131\" target=\"_blank\">irrationals.jl:131</a><li> log(x::<b>Real</b>) at <a href=\"https://github.com/JuliaLang/julia/tree/a2f713dea5ac6320d8dcf2835ac4a37ea751af05/base/math.jl#L139\" target=\"_blank\">math.jl:139</a><li> log<i>{T<:Number}</i>(b::<b>T<:Number</b>, x::<b>T<:Number</b>) at <a href=\"https://github.com/JuliaLang/julia/tree/a2f713dea5ac6320d8dcf2835ac4a37ea751af05/base/math.jl#L101\" target=\"_blank\">math.jl:101</a><li> log(b::<b>Number</b>, x::<b>Number</b>) at <a href=\"https://github.com/JuliaLang/julia/tree/a2f713dea5ac6320d8dcf2835ac4a37ea751af05/base/math.jl#L102\" target=\"_blank\">math.jl:102</a><li> log<i>{T1<:Number,T2<:Number}</i>(::<b>T1<:Number</b>, ::<b>AbstractArray{T2<:Number,N}</b>) at <a href=\"https://github.com/JuliaLang/julia/tree/a2f713dea5ac6320d8dcf2835ac4a37ea751af05/base/operators.jl#L391\" target=\"_blank\">operators.jl:391</a><li> log<i>{Tv}</i>(A::<b>SparseMatrixCSC{Tv,Ti<:Integer}</b>) at <a href=\"https://github.com/JuliaLang/julia/tree/a2f713dea5ac6320d8dcf2835ac4a37ea751af05/base/sparse/sparsematrix.jl#L725\" target=\"_blank\">sparse/sparsematrix.jl:725</a><li> log<i>{T<:Number}</i>(::<b>AbstractArray{T<:Number,1}</b>) at <a href=\"https://github.com/JuliaLang/julia/tree/a2f713dea5ac6320d8dcf2835ac4a37ea751af05/base/operators.jl#L380\" target=\"_blank\">operators.jl:380</a><li> log<i>{T<:Number}</i>(::<b>AbstractArray{T<:Number,2}</b>) at <a href=\"https://github.com/JuliaLang/julia/tree/a2f713dea5ac6320d8dcf2835ac4a37ea751af05/base/operators.jl#L381\" target=\"_blank\">operators.jl:381</a><li> log<i>{T1<:Number,T2<:Number}</i>(::<b>AbstractArray{T1<:Number,N}</b>, ::<b>T2<:Number</b>) at <a href=\"https://github.com/JuliaLang/julia/tree/a2f713dea5ac6320d8dcf2835ac4a37ea751af05/base/operators.jl#L393\" target=\"_blank\">operators.jl:393</a><li> log<i>{T1<:Number,T2<:Number}</i>(::<b>AbstractArray{T1<:Number,N}</b>, ::<b>AbstractArray{T2<:Number,N}</b>) at <a href=\"https://github.com/JuliaLang/julia/tree/a2f713dea5ac6320d8dcf2835ac4a37ea751af05/base/operators.jl#L397\" target=\"_blank\">operators.jl:397</a><li> log<i>{T<:Number}</i>(::<b>AbstractArray{T<:Number,N}</b>) at <a href=\"https://github.com/JuliaLang/julia/tree/a2f713dea5ac6320d8dcf2835ac4a37ea751af05/base/operators.jl#L383\" target=\"_blank\">operators.jl:383</a></ul>"
      ],
      "text/plain": [
       "# 19 methods for generic function \"log\":\n",
       "log(a::Complex{Float16}) at float16.jl:151\n",
       "log{T<:AbstractFloat}(z::Complex{T<:AbstractFloat}) at complex.jl:319\n",
       "log(z::Complex{T<:Real}) at complex.jl:338\n",
       "log(x::Float64) at math.jl:137\n",
       "log(x::Float32) at math.jl:138\n",
       "log(a::Float16) at float16.jl:150\n",
       "log(x::BigFloat) at mpfr.jl:549\n",
       "log(::Irrational{:e}) at irrationals.jl:130\n",
       "log(::Irrational{:e}, x) at irrationals.jl:131\n",
       "log(x::Real) at math.jl:139\n",
       "log{T<:Number}(b::T<:Number, x::T<:Number) at math.jl:101\n",
       "log(b::Number, x::Number) at math.jl:102\n",
       "log{T1<:Number,T2<:Number}(::T1<:Number, ::AbstractArray{T2<:Number,N}) at operators.jl:391\n",
       "log{Tv}(A::SparseMatrixCSC{Tv,Ti<:Integer}) at sparse/sparsematrix.jl:725\n",
       "log{T<:Number}(::AbstractArray{T<:Number,1}) at operators.jl:380\n",
       "log{T<:Number}(::AbstractArray{T<:Number,2}) at operators.jl:381\n",
       "log{T1<:Number,T2<:Number}(::AbstractArray{T1<:Number,N}, ::T2<:Number) at operators.jl:393\n",
       "log{T1<:Number,T2<:Number}(::AbstractArray{T1<:Number,N}, ::AbstractArray{T2<:Number,N}) at operators.jl:397\n",
       "log{T<:Number}(::AbstractArray{T<:Number,N}) at operators.jl:383"
      ]
     },
     "execution_count": 35,
     "metadata": {},
     "output_type": "execute_result"
    }
   ],
   "source": [
    "methods(log)"
   ]
  },
  {
   "cell_type": "markdown",
   "metadata": {},
   "source": [
    "# Excercise1"
   ]
  },
  {
   "cell_type": "code",
   "execution_count": null,
   "metadata": {
    "collapsed": true
   },
   "outputs": [],
   "source": []
  }
 ],
 "metadata": {
  "kernelspec": {
   "display_name": "Julia 0.4.3",
   "language": "julia",
   "name": "julia-0.4"
  },
  "language_info": {
   "file_extension": ".jl",
   "mimetype": "application/julia",
   "name": "julia",
   "version": "0.4.3"
  }
 },
 "nbformat": 4,
 "nbformat_minor": 0
}
