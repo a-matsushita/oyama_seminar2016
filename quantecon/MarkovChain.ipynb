{
 "cells": [
  {
   "cell_type": "code",
   "execution_count": 1,
   "metadata": {
    "collapsed": false
   },
   "outputs": [
    {
     "name": "stderr",
     "output_type": "stream",
     "text": [
      "INFO: Recompiling stale cache file /Users/akira/.julia/lib/v0.4/QuantEcon.ji for module QuantEcon.\n",
      "INFO: Recompiling stale cache file /Users/akira/.julia/lib/v0.4/Distributions.ji for module Distributions.\n",
      "INFO: Recompiling stale cache file /Users/akira/.julia/lib/v0.4/PDMats.ji for module PDMats.\n",
      "INFO: Recompiling stale cache file /Users/akira/.julia/lib/v0.4/StatsFuns.ji for module StatsFuns.\n",
      "INFO: Recompiling stale cache file /Users/akira/.julia/lib/v0.4/StatsBase.ji for module StatsBase.\n",
      "INFO: Recompiling stale cache file /Users/akira/.julia/lib/v0.4/ArrayViews.ji for module ArrayViews.\n",
      "INFO: Recompiling stale cache file /Users/akira/.julia/lib/v0.4/DSP.ji for module DSP.\n",
      "INFO: Recompiling stale cache file /Users/akira/.julia/lib/v0.4/Reexport.ji for module Reexport.\n",
      "INFO: Recompiling stale cache file /Users/akira/.julia/lib/v0.4/LightGraphs.ji for module LightGraphs.\n",
      "INFO: Recompiling stale cache file /Users/akira/.julia/lib/v0.4/Requires.ji for module Requires.\n",
      "INFO: Recompiling stale cache file /Users/akira/.julia/lib/v0.4/GZip.ji for module GZip.\n",
      "INFO: Recompiling stale cache file /Users/akira/.julia/lib/v0.4/LightXML.ji for module LightXML.\n",
      "INFO: Recompiling stale cache file /Users/akira/.julia/lib/v0.4/ParserCombinator.ji for module ParserCombinator.\n",
      "INFO: Recompiling stale cache file /Users/akira/.julia/lib/v0.4/AutoHashEquals.ji for module AutoHashEquals.\n",
      "INFO: Recompiling stale cache file /Users/akira/.julia/lib/v0.4/Clustering.ji for module Clustering.\n",
      "INFO: Recompiling stale cache file /Users/akira/.julia/lib/v0.4/Distances.ji for module Distances.\n",
      "INFO: Recompiling stale cache file /Users/akira/.julia/lib/v0.4/JLD.ji for module JLD.\n",
      "INFO: Recompiling stale cache file /Users/akira/.julia/lib/v0.4/HDF5.ji for module HDF5.\n",
      "INFO: Recompiling stale cache file /Users/akira/.julia/lib/v0.4/Blosc.ji for module Blosc.\n",
      "INFO: Recompiling stale cache file /Users/akira/.julia/lib/v0.4/FileIO.ji for module FileIO.\n"
     ]
    }
   ],
   "source": [
    "using QuantEcon"
   ]
  },
  {
   "cell_type": "code",
   "execution_count": 3,
   "metadata": {
    "collapsed": false
   },
   "outputs": [
    {
     "data": {
      "text/plain": [
       "mc_sample_path (generic function with 1 method)"
      ]
     },
     "execution_count": 3,
     "metadata": {},
     "output_type": "execute_result"
    }
   ],
   "source": [
    "function mc_sample_path(P; init=1, sample_size=1000)\n",
    "    X = Array(Int64, sample_size) # allocate memory\n",
    "    X[1] = init\n",
    "    # === convert each row of P into a distribution === #\n",
    "    n = size(P)[1]\n",
    "    P_dist = [DiscreteRV(vec(P[i,:])) for i in 1:n]\n",
    "\n",
    "    # === generate the sample path === #\n",
    "    for t in 1:(sample_size - 1)\n",
    "        X[t+1] = draw(P_dist[X[t]])\n",
    "    end\n",
    "    return X\n",
    "end"
   ]
  },
  {
   "cell_type": "code",
   "execution_count": null,
   "metadata": {
    "collapsed": true
   },
   "outputs": [],
   "source": []
  }
 ],
 "metadata": {
  "kernelspec": {
   "display_name": "Julia 0.4.6",
   "language": "julia",
   "name": "julia-0.4"
  },
  "language_info": {
   "file_extension": ".jl",
   "mimetype": "application/julia",
   "name": "julia",
   "version": "0.4.6"
  }
 },
 "nbformat": 4,
 "nbformat_minor": 0
}
