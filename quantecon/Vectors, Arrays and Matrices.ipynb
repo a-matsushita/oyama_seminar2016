{
 "cells": [
  {
   "cell_type": "markdown",
   "metadata": {},
   "source": [
    "# Vectors, Arrays and Matrices\n",
    "\n",
    "[http://quant-econ.net/jl/julia_arrays.html](http://quant-econ.net/jl/julia_arrays.html)"
   ]
  },
  {
   "cell_type": "markdown",
   "metadata": {},
   "source": [
    "以下の差分方程式を考える.\n",
    "\n",
    "$$\n",
    "\\begin{eqnarray}\n",
    "X_{t+1} = AX_t + b + \\Sigma W_{t + 1}\\\\\n",
    "\\\\\n",
    "\\end{eqnarray}\n",
    "$$\n",
    "\n",
    "$$\n",
    "\\begin{eqnarray}\n",
    "where \\hspace{5pt} && X_t : n \\times 1, \\ A: n \\times n, \\ b: n \\times 1, \\ \\Sigma: n \\times n, \\ W_t: n \\times 1 \\\\[10pt]\n",
    "&& W_t  \\hspace{5pt} \\ i.i.d. \\sim F, \\ E[W_t] = \\left(\n",
    "\\begin{array}{c}\n",
    "  0 \\\\\n",
    "  0 \\\\\n",
    "  \\vdots \\\\\n",
    "  0\n",
    "\\end{array}\n",
    "\\right), \\ Var(W_t) = \\left(\n",
    "\\begin{array}{c}\n",
    "  1, 0, 0, \\ldots, 0 \\\\\n",
    "  0, 1, 0, \\ldots, 0 \\\\\n",
    "  \\ddots \\\\\n",
    "  0, 0, 0, \\ldots, 1\n",
    "\\end{array}\n",
    "\\right)\n",
    "\\\\\n",
    "\\end{eqnarray}\n",
    "$$\n",
    "\n"
   ]
  },
  {
   "cell_type": "markdown",
   "metadata": {},
   "source": [
    "## モジュールのインポート"
   ]
  },
  {
   "cell_type": "code",
   "execution_count": 1,
   "metadata": {
    "collapsed": false
   },
   "outputs": [],
   "source": [
    "using QuantEcon\n",
    "using Distributions"
   ]
  },
  {
   "cell_type": "code",
   "execution_count": 2,
   "metadata": {
    "collapsed": false
   },
   "outputs": [
    {
     "data": {
      "text/plain": [
       "compute_asymptotic_var (generic function with 2 methods)"
      ]
     },
     "execution_count": 2,
     "metadata": {},
     "output_type": "execute_result"
    }
   ],
   "source": [
    "EPSILON = 1e-12\n",
    "\n",
    "function compute_asymptotic_var(A, Sigma, loop_max=1e^5)\n",
    "    V = Sigma * Sigma'\n",
    "    S = V\n",
    "    i = 0\n",
    "    while i < loop_max\n",
    "        next_S = A * S * A' + V\n",
    "        if norm(S - next_S) < EPSILON\n",
    "            break\n",
    "        end\n",
    "        S = next_S\n",
    "        i += 1\n",
    "    end\n",
    "    return S\n",
    "end"
   ]
  },
  {
   "cell_type": "code",
   "execution_count": 9,
   "metadata": {
    "collapsed": false
   },
   "outputs": [
    {
     "name": "stdout",
     "output_type": "stream",
     "text": [
      "固有値: Complex{Float64}[0.0 + 1.0im,0.0 - 1.0im]\n",
      "最大固有値は1未満か: true\n"
     ]
    }
   ],
   "source": [
    "A = [0.8 -0.2; -0.1 0.7]\n",
    "Sigma = [0.5 0.4; 0.4 0.6]\n",
    "\n",
    "less_than_1 =  all(abs(eigvals(A)) .< 1)\n",
    "println(\"固有値: \", eigs)\n",
    "println(\"最大固有値は1未満か: \", less_than_1)"
   ]
  },
  {
   "cell_type": "code",
   "execution_count": 12,
   "metadata": {
    "collapsed": false
   },
   "outputs": [
    {
     "name": "stdout",
     "output_type": "stream",
     "text": [
      "漸近分散: [0.6712314073191568 0.6334739702534651\n",
      " 0.6334739702534651 0.8588744279167456]\n"
     ]
    }
   ],
   "source": [
    "s = compute_asymptotic_var(A, Sigma)\n",
    "println(\"漸近分散: \", s)"
   ]
  },
  {
   "cell_type": "code",
   "execution_count": 13,
   "metadata": {
    "collapsed": false
   },
   "outputs": [
    {
     "name": "stdout",
     "output_type": "stream",
     "text": [
      "[0.671231407322655 0.6334739702517161\n",
      " 0.633473970251716 0.8588744279176201]\n"
     ]
    }
   ],
   "source": [
    "println(solve_discrete_lyapunov(A, Sigma * Sigma'))"
   ]
  },
  {
   "cell_type": "markdown",
   "metadata": {},
   "source": [
    "両者は一致."
   ]
  }
 ],
 "metadata": {
  "kernelspec": {
   "display_name": "Julia 0.4.3",
   "language": "julia",
   "name": "julia-0.4"
  },
  "language_info": {
   "file_extension": ".jl",
   "mimetype": "application/julia",
   "name": "julia",
   "version": "0.4.3"
  }
 },
 "nbformat": 4,
 "nbformat_minor": 0
}
