{
 "cells": [
  {
   "cell_type": "markdown",
   "metadata": {},
   "source": [
    "# Finite Markov Chains"
   ]
  },
  {
   "cell_type": "code",
   "execution_count": 9,
   "metadata": {
    "collapsed": false
   },
   "outputs": [
    {
     "data": {
      "text/plain": [
       "1x2 Array{Float64,2}:\n",
       " 0.25  0.75"
      ]
     },
     "execution_count": 9,
     "metadata": {},
     "output_type": "execute_result"
    }
   ],
   "source": [
    "P = [.4 .6; .2 .8]\n",
    "psi = [0.25, 0.75]\n",
    "psi' * P"
   ]
  },
  {
   "cell_type": "code",
   "execution_count": 10,
   "metadata": {
    "collapsed": false
   },
   "outputs": [
    {
     "data": {
      "text/plain": [
       "2-element Array{Float64,1}:\n",
       " 0.25\n",
       " 0.75"
      ]
     },
     "execution_count": 10,
     "metadata": {},
     "output_type": "execute_result"
    }
   ],
   "source": [
    "P' * psi"
   ]
  },
  {
   "cell_type": "code",
   "execution_count": 11,
   "metadata": {
    "collapsed": false
   },
   "outputs": [
    {
     "data": {
      "text/plain": [
       "1x2 Array{Float64,2}:\n",
       " 0.25  0.75"
      ]
     },
     "execution_count": 11,
     "metadata": {},
     "output_type": "execute_result"
    }
   ],
   "source": [
    "psi'"
   ]
  },
  {
   "cell_type": "code",
   "execution_count": 12,
   "metadata": {
    "collapsed": false
   },
   "outputs": [
    {
     "name": "stderr",
     "output_type": "stream",
     "text": [
      "INFO: Precompiling module PyPlot...\n",
      "Assertion failed: (ctx->gensym_assigned.at(idx)), function emit_expr, file codegen.cpp, line 3155.\n",
      "\n",
      "signal (6): Abort trap: 6\n",
      "__pthread_kill at /usr/lib/system/libsystem_kernel.dylib (unknown line)\n",
      "ERROR: LoadError: Failed to precompile PyCall to /Users/akira/.julia/lib/v0.4/PyCall.ji\n",
      " in error at /usr/local/Cellar/julia/0.4.6_1/lib/julia/sys.dylib\n",
      " in compilecache at loading.jl:400\n",
      " in require at /usr/local/Cellar/julia/0.4.6_1/lib/julia/sys.dylib\n",
      " in include at /usr/local/Cellar/julia/0.4.6_1/lib/julia/sys.dylib\n",
      " in include_from_node1 at /usr/local/Cellar/julia/0.4.6_1/lib/julia/sys.dylib\n",
      " [inlined code] from none:2\n",
      " in anonymous at no file:0\n",
      " in process_options at /usr/local/Cellar/julia/0.4.6_1/lib/julia/sys.dylib\n",
      " in _start at /usr/local/Cellar/julia/0.4.6_1/lib/julia/sys.dylib\n",
      "while loading /Users/akira/.julia/v0.4/PyPlot/src/PyPlot.jl, in expression starting on line 5\n"
     ]
    },
    {
     "ename": "LoadError",
     "evalue": "LoadError: Failed to precompile PyPlot to /Users/akira/.julia/lib/v0.4/PyPlot.ji\nwhile loading In[12], in expression starting on line 1",
     "output_type": "error",
     "traceback": [
      "LoadError: Failed to precompile PyPlot to /Users/akira/.julia/lib/v0.4/PyPlot.ji\nwhile loading In[12], in expression starting on line 1",
      "",
      " in error at /usr/local/Cellar/julia/0.4.6_1/lib/julia/sys.dylib",
      " in compilecache at loading.jl:400",
      " in require at /usr/local/Cellar/julia/0.4.6_1/lib/julia/sys.dylib"
     ]
    }
   ],
   "source": [
    "using PyPlot\n",
    "using QuantEcon: mc_compute_stationary\n",
    "\n",
    "P =[0.971 0.029 0.000\n",
    "    0.145 0.778 0.077\n",
    "    0.000 0.508 0.492]\n",
    "\n",
    "psi = [0.0 0.2 0.8]\n",
    "\n",
    "fig = figure()\n",
    "ax = fig[:gca](projection=\"3d\")\n",
    "ax[:set_xlim](0, 1)\n",
    "ax[:set_ylim](0, 1)\n",
    "ax[:set_zlim](0, 1)\n",
    "ax[:set_xticks]((0.25, 0.5, 0.75))\n",
    "ax[:set_yticks]((0.25, 0.5, 0.75))\n",
    "ax[:set_zticks]((0.25, 0.5, 0.75))\n",
    "\n",
    "t = 20\n",
    "x_vals = Array(Float64, t)\n",
    "y_vals = Array(Float64, t)\n",
    "z_vals = Array(Float64, t)\n",
    "\n",
    "for i=1:t\n",
    "    x_vals[i] = psi[1]\n",
    "    y_vals[i] = psi[2]\n",
    "    z_vals[i] = psi[3]\n",
    "    psi = psi*P\n",
    "end\n",
    "\n",
    "ax[:scatter](x_vals, y_vals, z_vals, c=\"r\", s = 60)\n",
    "\n",
    "P = MarkovChain(P)\n",
    "psi_star = mc_compute_stationary(P)\n",
    "ax[:scatter](psi_star[1], psi_star[2], psi_star[3], c=\"k\", s = 60)"
   ]
  },
  {
   "cell_type": "code",
   "execution_count": null,
   "metadata": {
    "collapsed": true
   },
   "outputs": [],
   "source": []
  }
 ],
 "metadata": {
  "kernelspec": {
   "display_name": "Julia 0.4.6",
   "language": "julia",
   "name": "julia-0.4"
  },
  "language_info": {
   "file_extension": ".jl",
   "mimetype": "application/julia",
   "name": "julia",
   "version": "0.4.6"
  }
 },
 "nbformat": 4,
 "nbformat_minor": 0
}
